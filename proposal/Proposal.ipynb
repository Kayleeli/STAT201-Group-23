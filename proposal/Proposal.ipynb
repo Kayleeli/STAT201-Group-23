{
 "cells": [
  {
   "cell_type": "markdown",
   "id": "d14c73aa-7e4f-4750-844e-fc0d87dc827b",
   "metadata": {},
   "source": [
    "# Inference: Body Mass Index Relation to Being Diabetic"
   ]
  },
  {
   "cell_type": "markdown",
   "id": "bb6d2890-c4b4-4319-8626-56bfbdc71b5a",
   "metadata": {},
   "source": [
    "## Introduction"
   ]
  },
  {
   "cell_type": "markdown",
   "id": "4b9e8148-b0a1-4a43-9490-c10add814d26",
   "metadata": {},
   "source": [
    "Diabetes is a prevalent disease which has dramatically increased in recent years. With modern farming methods and key insight into food nutrition, it would be assumed that the general population is seemingly healthy. However, obesity is on the rise and we will investigate the relationship between the two increasing trends. \n",
    "\n",
    "Obesity is quantified through body mass index (BMI) which takes into account a person's height and weight to measure if an individual is healthy. Ideally an individual will be in the range of 18.5 to 24.9 . In the US, over 7% of the population is diabetic whereas 35.7% is obese. \n",
    "\n",
    "Although significant research has been done on how BMI is an underlying factor of diabetes, we aim to obtain a quantifiable number in the difference in BMI between a diabetic and nondiabetic. This would lead to a better understanding in the association of BMI and being diabetic which can be applied to further research. \n",
    "\n",
    "Thus, our research question is : **Is the average (mean) BMI value of people with diabetes higher than those who do not have diabetes?**\n",
    " \n",
    "The dataset will be split into two groups according to if the individual has diabetes. The mean BMI of the two groups will then be compared in order to determine if people with diabetes are higher than those who do not have diabetes using bootstrapping. The hypothesis will be that the mean BMI value of the diabetic group will be higher than the non-diabetic group. This will be explored on  our Diabetes and Digestive dataset obtained from the National Institute of Diabetes and Digestive and Kidney Diseases. The participants were females at least 21 years old. Firstly, the data will be cleaned to only focus on the variables outcome and BMI. Outcome is a Boolean and the group will be split on whether they are “TRUE” for having diabetes or “FALSE”. The BMI variable will be used to obtain the mean following other testing through bootstrapping to obtain the confidence interval. \n"
   ]
  },
  {
   "cell_type": "markdown",
   "id": "fad60f11-79ba-4278-bee2-a05564868a75",
   "metadata": {},
   "source": [
    "## Preliminary Results"
   ]
  },
  {
   "cell_type": "code",
   "execution_count": 205,
   "id": "839e2fcf-26e3-4e26-96d5-baeb706f111c",
   "metadata": {},
   "outputs": [],
   "source": [
    "library(cowplot)\n",
    "library(digest)\n",
    "library(gridExtra)\n",
    "library(infer)\n",
    "library(repr)\n",
    "library(tidyverse)\n",
    "library(datateachr)"
   ]
  },
  {
   "cell_type": "code",
   "execution_count": 206,
   "id": "715a22b7-242c-4f4a-86be-22ff3029cbf7",
   "metadata": {},
   "outputs": [],
   "source": [
    "set.seed(999)\n",
    "options(repr.plot.width = 8, repr.plot.height = 8) "
   ]
  },
  {
   "cell_type": "code",
   "execution_count": 207,
   "id": "9569fafa-ae0e-4353-9ddc-d4481dd23a51",
   "metadata": {},
   "outputs": [
    {
     "name": "stderr",
     "output_type": "stream",
     "text": [
      "\u001b[1mRows: \u001b[22m\u001b[34m768\u001b[39m \u001b[1mColumns: \u001b[22m\u001b[34m9\u001b[39m\n",
      "\u001b[36m──\u001b[39m \u001b[1mColumn specification\u001b[22m \u001b[36m────────────────────────────────────────────────────────\u001b[39m\n",
      "\u001b[1mDelimiter:\u001b[22m \",\"\n",
      "\u001b[32mdbl\u001b[39m (8): pregnancies, glucose, bloodpressure, skinthickness, insulin, bmi, d...\n",
      "\u001b[33mlgl\u001b[39m (1): outcome\n",
      "\n",
      "\u001b[36mℹ\u001b[39m Use `spec()` to retrieve the full column specification for this data.\n",
      "\u001b[36mℹ\u001b[39m Specify the column types or set `show_col_types = FALSE` to quiet this message.\n"
     ]
    },
    {
     "data": {
      "text/html": [
       "<table class=\"dataframe\">\n",
       "<caption>A tibble: 3 × 9</caption>\n",
       "<thead>\n",
       "\t<tr><th scope=col>pregnancies</th><th scope=col>glucose</th><th scope=col>bloodpressure</th><th scope=col>skinthickness</th><th scope=col>insulin</th><th scope=col>bmi</th><th scope=col>diabetespedigreefunction</th><th scope=col>age</th><th scope=col>outcome</th></tr>\n",
       "\t<tr><th scope=col>&lt;dbl&gt;</th><th scope=col>&lt;dbl&gt;</th><th scope=col>&lt;dbl&gt;</th><th scope=col>&lt;dbl&gt;</th><th scope=col>&lt;dbl&gt;</th><th scope=col>&lt;dbl&gt;</th><th scope=col>&lt;dbl&gt;</th><th scope=col>&lt;dbl&gt;</th><th scope=col>&lt;lgl&gt;</th></tr>\n",
       "</thead>\n",
       "<tbody>\n",
       "\t<tr><td>6</td><td>148</td><td>72</td><td>35</td><td>0</td><td>33.6</td><td>0.627</td><td>50</td><td> TRUE</td></tr>\n",
       "\t<tr><td>1</td><td> 85</td><td>66</td><td>29</td><td>0</td><td>26.6</td><td>0.351</td><td>31</td><td>FALSE</td></tr>\n",
       "\t<tr><td>8</td><td>183</td><td>64</td><td> 0</td><td>0</td><td>23.3</td><td>0.672</td><td>32</td><td> TRUE</td></tr>\n",
       "</tbody>\n",
       "</table>\n"
      ],
      "text/latex": [
       "A tibble: 3 × 9\n",
       "\\begin{tabular}{lllllllll}\n",
       " pregnancies & glucose & bloodpressure & skinthickness & insulin & bmi & diabetespedigreefunction & age & outcome\\\\\n",
       " <dbl> & <dbl> & <dbl> & <dbl> & <dbl> & <dbl> & <dbl> & <dbl> & <lgl>\\\\\n",
       "\\hline\n",
       "\t 6 & 148 & 72 & 35 & 0 & 33.6 & 0.627 & 50 &  TRUE\\\\\n",
       "\t 1 &  85 & 66 & 29 & 0 & 26.6 & 0.351 & 31 & FALSE\\\\\n",
       "\t 8 & 183 & 64 &  0 & 0 & 23.3 & 0.672 & 32 &  TRUE\\\\\n",
       "\\end{tabular}\n"
      ],
      "text/markdown": [
       "\n",
       "A tibble: 3 × 9\n",
       "\n",
       "| pregnancies &lt;dbl&gt; | glucose &lt;dbl&gt; | bloodpressure &lt;dbl&gt; | skinthickness &lt;dbl&gt; | insulin &lt;dbl&gt; | bmi &lt;dbl&gt; | diabetespedigreefunction &lt;dbl&gt; | age &lt;dbl&gt; | outcome &lt;lgl&gt; |\n",
       "|---|---|---|---|---|---|---|---|---|\n",
       "| 6 | 148 | 72 | 35 | 0 | 33.6 | 0.627 | 50 |  TRUE |\n",
       "| 1 |  85 | 66 | 29 | 0 | 26.6 | 0.351 | 31 | FALSE |\n",
       "| 8 | 183 | 64 |  0 | 0 | 23.3 | 0.672 | 32 |  TRUE |\n",
       "\n"
      ],
      "text/plain": [
       "  pregnancies glucose bloodpressure skinthickness insulin bmi \n",
       "1 6           148     72            35            0       33.6\n",
       "2 1            85     66            29            0       26.6\n",
       "3 8           183     64             0            0       23.3\n",
       "  diabetespedigreefunction age outcome\n",
       "1 0.627                    50   TRUE  \n",
       "2 0.351                    31  FALSE  \n",
       "3 0.672                    32   TRUE  "
      ]
     },
     "metadata": {},
     "output_type": "display_data"
    }
   ],
   "source": [
    "# dataset read from the web ------------------------------------------------------------\n",
    "diabetes <- read_csv('https://raw.githubusercontent.com/Kayleeli/STAT201-Group-23/main/data/diabetes.csv') \n",
    "head(diabetes, n = 3)"
   ]
  },
  {
   "cell_type": "code",
   "execution_count": 208,
   "id": "a2de7282-ed24-49cb-9edc-3814ae7600a0",
   "metadata": {},
   "outputs": [],
   "source": [
    "# clean + wrangled the data into tidy format ------------------------------------------\n",
    "\n",
    "    # because we only want to focus on the relationship between bmi + outcome, selecting only:\n",
    "        # 1) bmi column : body mass index in kg/m^2\n",
    "        # 2) outcome column : TRUE = diabetic , FALSE = Non-diabetic\n",
    "\n",
    "diabetes <- diabetes %>%\n",
    "    select(bmi, outcome)"
   ]
  },
  {
   "cell_type": "code",
   "execution_count": 209,
   "id": "87dc66f5-4ab7-4e5e-944a-600efa955f79",
   "metadata": {},
   "outputs": [
    {
     "data": {
      "text/html": [
       "<table class=\"dataframe\">\n",
       "<caption>A tibble: 2 × 1</caption>\n",
       "<thead>\n",
       "\t<tr><th scope=col>bmi</th></tr>\n",
       "\t<tr><th scope=col>&lt;dbl&gt;</th></tr>\n",
       "</thead>\n",
       "<tbody>\n",
       "\t<tr><td>33.6</td></tr>\n",
       "\t<tr><td>23.3</td></tr>\n",
       "</tbody>\n",
       "</table>\n"
      ],
      "text/latex": [
       "A tibble: 2 × 1\n",
       "\\begin{tabular}{l}\n",
       " bmi\\\\\n",
       " <dbl>\\\\\n",
       "\\hline\n",
       "\t 33.6\\\\\n",
       "\t 23.3\\\\\n",
       "\\end{tabular}\n"
      ],
      "text/markdown": [
       "\n",
       "A tibble: 2 × 1\n",
       "\n",
       "| bmi &lt;dbl&gt; |\n",
       "|---|\n",
       "| 33.6 |\n",
       "| 23.3 |\n",
       "\n"
      ],
      "text/plain": [
       "  bmi \n",
       "1 33.6\n",
       "2 23.3"
      ]
     },
     "metadata": {},
     "output_type": "display_data"
    },
    {
     "data": {
      "text/html": [
       "<table class=\"dataframe\">\n",
       "<caption>A tibble: 2 × 1</caption>\n",
       "<thead>\n",
       "\t<tr><th scope=col>bmi</th></tr>\n",
       "\t<tr><th scope=col>&lt;dbl&gt;</th></tr>\n",
       "</thead>\n",
       "<tbody>\n",
       "\t<tr><td>26.6</td></tr>\n",
       "\t<tr><td>28.1</td></tr>\n",
       "</tbody>\n",
       "</table>\n"
      ],
      "text/latex": [
       "A tibble: 2 × 1\n",
       "\\begin{tabular}{l}\n",
       " bmi\\\\\n",
       " <dbl>\\\\\n",
       "\\hline\n",
       "\t 26.6\\\\\n",
       "\t 28.1\\\\\n",
       "\\end{tabular}\n"
      ],
      "text/markdown": [
       "\n",
       "A tibble: 2 × 1\n",
       "\n",
       "| bmi &lt;dbl&gt; |\n",
       "|---|\n",
       "| 26.6 |\n",
       "| 28.1 |\n",
       "\n"
      ],
      "text/plain": [
       "  bmi \n",
       "1 26.6\n",
       "2 28.1"
      ]
     },
     "metadata": {},
     "output_type": "display_data"
    }
   ],
   "source": [
    "# plot relevant data + compute estimates of the parameter identified -------------------\n",
    "\n",
    "    # splitting people into 2 groups based on \"outcome\" (TRUE (diabetic) vs FALSE (non-diabetic))\n",
    "    # we want focus on the relationship between \"bmi\" and \"outcome\"\n",
    "\n",
    "diabetic_group <- diabetes %>%\n",
    "    filter(outcome==\"TRUE\") %>%\n",
    "    select(bmi)\n",
    "\n",
    "nondiabetic_group <- diabetes %>%\n",
    "    filter(outcome==\"FALSE\") %>%\n",
    "    select(bmi)\n",
    "\n",
    "head(diabetic_group, n = 2)\n",
    "head(nondiabetic_group, n = 2)"
   ]
  },
  {
   "cell_type": "code",
   "execution_count": 210,
   "id": "6fc4cd42-63a5-4570-af48-fd7941683bff",
   "metadata": {},
   "outputs": [],
   "source": [
    "# we want to compare the difference of mean bmi values between the two groups (diabetic_group vs nondiabetic_group)\n",
    "# we will use the bootstrapping method to get an estimate of the mean bmi value of each group"
   ]
  },
  {
   "cell_type": "code",
   "execution_count": 211,
   "id": "22c829f5-d3bd-41e3-9c85-dec809ebbf47",
   "metadata": {},
   "outputs": [],
   "source": [
    "# For: diabetic_group\n",
    "\n",
    "    # 1. We randomly create a single sample, size 100, from diabetic_group\n",
    "\n",
    "    sample_diabetic <- diabetic_group %>%\n",
    "        rep_sample_n(size=100, reps=1, replace=FALSE) %>%\n",
    "        ungroup()\n",
    "\n",
    "    # 2. We created 1000 bootstrap samples based on this single sample, and found the mean bmi value for each sample \n",
    "\n",
    "    bootstrap_diabetic <- sample_diabetic %>%\n",
    "        rep_sample_n(size=100, reps=1000, replace=TRUE) %>%\n",
    "        group_by(replicate) %>%\n",
    "        summarize(mean_bmi = mean(bmi)) %>%\n",
    "        select(mean_bmi)\n",
    "\n",
    "    # 3. We found the 90% confidence interval for diabetic_group\n",
    "\n",
    "    interval_diabetic <- bootstrap_diabetic %>% \n",
    "        summarize(ci_lower = quantile(mean_bmi, 0.05),\n",
    "                  ci_upper = quantile(mean_bmi, 0.95))\n",
    "\n",
    "    # 4. Created a histogram plot \n",
    "\n",
    "    diabetics_hist <- bootstrap_diabetic %>%\n",
    "        ggplot(aes(x=mean_bmi))+\n",
    "        geom_histogram(binwidth=0.1, color=\"white\")+\n",
    "        annotate(\"rect\", xmin = interval_diabetic$ci_lower, xmax = interval_diabetic$ci_upper, ymin = 0, ymax = Inf, fill = \"deepskyblue\", alpha = 0.3)+\n",
    "        labs(x=\"BMI mean value (kg/m^2)\")+\n",
    "        ggtitle(\"Simulated Bootstrap Sampling Distribution: \\nWith 95% C. I. For Diabetic Group\") +\n",
    "        scale_x_continuous(breaks=seq(30,40, 1)) +\n",
    "        theme(plot.title = element_text(hjust = 0.5))\n"
   ]
  },
  {
   "cell_type": "code",
   "execution_count": 212,
   "id": "58a2f232-4aed-4632-999c-e83308602bf1",
   "metadata": {},
   "outputs": [
    {
     "data": {
      "text/html": [
       "<table class=\"dataframe\">\n",
       "<caption>A tibble: 2 × 2</caption>\n",
       "<thead>\n",
       "\t<tr><th scope=col>replicate</th><th scope=col>bmi</th></tr>\n",
       "\t<tr><th scope=col>&lt;int&gt;</th><th scope=col>&lt;dbl&gt;</th></tr>\n",
       "</thead>\n",
       "<tbody>\n",
       "\t<tr><td>1</td><td>35.4</td></tr>\n",
       "\t<tr><td>1</td><td>52.3</td></tr>\n",
       "</tbody>\n",
       "</table>\n"
      ],
      "text/latex": [
       "A tibble: 2 × 2\n",
       "\\begin{tabular}{ll}\n",
       " replicate & bmi\\\\\n",
       " <int> & <dbl>\\\\\n",
       "\\hline\n",
       "\t 1 & 35.4\\\\\n",
       "\t 1 & 52.3\\\\\n",
       "\\end{tabular}\n"
      ],
      "text/markdown": [
       "\n",
       "A tibble: 2 × 2\n",
       "\n",
       "| replicate &lt;int&gt; | bmi &lt;dbl&gt; |\n",
       "|---|---|\n",
       "| 1 | 35.4 |\n",
       "| 1 | 52.3 |\n",
       "\n"
      ],
      "text/plain": [
       "  replicate bmi \n",
       "1 1         35.4\n",
       "2 1         52.3"
      ]
     },
     "metadata": {},
     "output_type": "display_data"
    },
    {
     "data": {
      "text/html": [
       "<table class=\"dataframe\">\n",
       "<caption>A tibble: 2 × 1</caption>\n",
       "<thead>\n",
       "\t<tr><th scope=col>mean_bmi</th></tr>\n",
       "\t<tr><th scope=col>&lt;dbl&gt;</th></tr>\n",
       "</thead>\n",
       "<tbody>\n",
       "\t<tr><td>36.473</td></tr>\n",
       "\t<tr><td>36.674</td></tr>\n",
       "</tbody>\n",
       "</table>\n"
      ],
      "text/latex": [
       "A tibble: 2 × 1\n",
       "\\begin{tabular}{l}\n",
       " mean\\_bmi\\\\\n",
       " <dbl>\\\\\n",
       "\\hline\n",
       "\t 36.473\\\\\n",
       "\t 36.674\\\\\n",
       "\\end{tabular}\n"
      ],
      "text/markdown": [
       "\n",
       "A tibble: 2 × 1\n",
       "\n",
       "| mean_bmi &lt;dbl&gt; |\n",
       "|---|\n",
       "| 36.473 |\n",
       "| 36.674 |\n",
       "\n"
      ],
      "text/plain": [
       "  mean_bmi\n",
       "1 36.473  \n",
       "2 36.674  "
      ]
     },
     "metadata": {},
     "output_type": "display_data"
    },
    {
     "data": {
      "text/html": [
       "<table class=\"dataframe\">\n",
       "<caption>A tibble: 1 × 2</caption>\n",
       "<thead>\n",
       "\t<tr><th scope=col>ci_lower</th><th scope=col>ci_upper</th></tr>\n",
       "\t<tr><th scope=col>&lt;dbl&gt;</th><th scope=col>&lt;dbl&gt;</th></tr>\n",
       "</thead>\n",
       "<tbody>\n",
       "\t<tr><td>34.7135</td><td>37.0682</td></tr>\n",
       "</tbody>\n",
       "</table>\n"
      ],
      "text/latex": [
       "A tibble: 1 × 2\n",
       "\\begin{tabular}{ll}\n",
       " ci\\_lower & ci\\_upper\\\\\n",
       " <dbl> & <dbl>\\\\\n",
       "\\hline\n",
       "\t 34.7135 & 37.0682\\\\\n",
       "\\end{tabular}\n"
      ],
      "text/markdown": [
       "\n",
       "A tibble: 1 × 2\n",
       "\n",
       "| ci_lower &lt;dbl&gt; | ci_upper &lt;dbl&gt; |\n",
       "|---|---|\n",
       "| 34.7135 | 37.0682 |\n",
       "\n"
      ],
      "text/plain": [
       "  ci_lower ci_upper\n",
       "1 34.7135  37.0682 "
      ]
     },
     "metadata": {},
     "output_type": "display_data"
    }
   ],
   "source": [
    "head(sample_diabetic, n = 2)\n",
    "head(bootstrap_diabetic, n = 2)\n",
    "interval_diabetic"
   ]
  },
  {
   "cell_type": "code",
   "execution_count": 213,
   "id": "0b4393c1-b901-40db-99fe-718f2a64e41c",
   "metadata": {},
   "outputs": [
    {
     "data": {
      "image/png": "[encoded data removed]",
      "text/plain": [
       "plot without title"
      ]
     },
     "metadata": {
      "image/png": {
       "height": 480,
       "width": 480
      }
     },
     "output_type": "display_data"
    }
   ],
   "source": [
    "diabetics_hist"
   ]
  },
  {
   "cell_type": "code",
   "execution_count": 214,
   "id": "1a1df6ee-e4c1-4758-b4d1-db39148f3a10",
   "metadata": {},
   "outputs": [],
   "source": [
    "# For: non-diabetic_group\n",
    "\n",
    "    # 1. We randomly create a single sample, size 100, from nondiabetic_group\n",
    "\n",
    "    sample_nondiabetic <- nondiabetic_group %>%\n",
    "        rep_sample_n(size=100, reps=1, replace=FALSE) %>%\n",
    "        ungroup()\n",
    "\n",
    "    # 2. We created 1000 bootstrap samples based on this single sample, and found the mean bmi value for each sample \n",
    "\n",
    "    bootstrap_nondiabetic <- sample_nondiabetic %>%\n",
    "        rep_sample_n(size=100, reps=1000, replace=TRUE) %>%\n",
    "        group_by(replicate) %>%\n",
    "        summarize(mean_bmi = mean(bmi)) %>%\n",
    "        select(mean_bmi)\n",
    "\n",
    "    # 3. We found the 90% confidence interval for non-nondiabetic_group\n",
    "\n",
    "    interval_nondiabetic <- bootstrap_nondiabetic %>% \n",
    "        summarize(ci_lower = quantile(mean_bmi, 0.05),\n",
    "                  ci_upper = quantile(mean_bmi, 0.95))\n",
    "\n",
    "    # 4. created a histogram plot\n",
    "\n",
    "    nondiabetic_hist <- bootstrap_nondiabetic %>%\n",
    "        ggplot(aes(x=mean_bmi))+\n",
    "        geom_histogram(binwidth=0.1, color=\"white\")+\n",
    "        annotate(\"rect\", xmin = interval_nondiabetic$ci_lower, xmax = interval_nondiabetic$ci_upper, ymin = 0, ymax = Inf, fill = \"deepskyblue\", alpha = 0.3)+\n",
    "        labs(x=\"BMI mean value (kg/m^2)\")+\n",
    "        ggtitle(\"Simulated Bootstrap Sampling Distribution:\\nWith 95% C. I. For Non-Diabetic Group\") +\n",
    "        scale_x_continuous(breaks=seq(25,40, 1)) +\n",
    "        theme(plot.title = element_text(hjust = 0.5))"
   ]
  },
  {
   "cell_type": "code",
   "execution_count": 215,
   "id": "a941b6ac-ee75-4989-ae3e-72895c0ec2b2",
   "metadata": {},
   "outputs": [
    {
     "data": {
      "text/html": [
       "<table class=\"dataframe\">\n",
       "<caption>A tibble: 2 × 2</caption>\n",
       "<thead>\n",
       "\t<tr><th scope=col>replicate</th><th scope=col>bmi</th></tr>\n",
       "\t<tr><th scope=col>&lt;int&gt;</th><th scope=col>&lt;dbl&gt;</th></tr>\n",
       "</thead>\n",
       "<tbody>\n",
       "\t<tr><td>1</td><td>19.1</td></tr>\n",
       "\t<tr><td>1</td><td>35.2</td></tr>\n",
       "</tbody>\n",
       "</table>\n"
      ],
      "text/latex": [
       "A tibble: 2 × 2\n",
       "\\begin{tabular}{ll}\n",
       " replicate & bmi\\\\\n",
       " <int> & <dbl>\\\\\n",
       "\\hline\n",
       "\t 1 & 19.1\\\\\n",
       "\t 1 & 35.2\\\\\n",
       "\\end{tabular}\n"
      ],
      "text/markdown": [
       "\n",
       "A tibble: 2 × 2\n",
       "\n",
       "| replicate &lt;int&gt; | bmi &lt;dbl&gt; |\n",
       "|---|---|\n",
       "| 1 | 19.1 |\n",
       "| 1 | 35.2 |\n",
       "\n"
      ],
      "text/plain": [
       "  replicate bmi \n",
       "1 1         19.1\n",
       "2 1         35.2"
      ]
     },
     "metadata": {},
     "output_type": "display_data"
    },
    {
     "data": {
      "text/html": [
       "<table class=\"dataframe\">\n",
       "<caption>A tibble: 2 × 1</caption>\n",
       "<thead>\n",
       "\t<tr><th scope=col>mean_bmi</th></tr>\n",
       "\t<tr><th scope=col>&lt;dbl&gt;</th></tr>\n",
       "</thead>\n",
       "<tbody>\n",
       "\t<tr><td>29.832</td></tr>\n",
       "\t<tr><td>28.950</td></tr>\n",
       "</tbody>\n",
       "</table>\n"
      ],
      "text/latex": [
       "A tibble: 2 × 1\n",
       "\\begin{tabular}{l}\n",
       " mean\\_bmi\\\\\n",
       " <dbl>\\\\\n",
       "\\hline\n",
       "\t 29.832\\\\\n",
       "\t 28.950\\\\\n",
       "\\end{tabular}\n"
      ],
      "text/markdown": [
       "\n",
       "A tibble: 2 × 1\n",
       "\n",
       "| mean_bmi &lt;dbl&gt; |\n",
       "|---|\n",
       "| 29.832 |\n",
       "| 28.950 |\n",
       "\n"
      ],
      "text/plain": [
       "  mean_bmi\n",
       "1 29.832  \n",
       "2 28.950  "
      ]
     },
     "metadata": {},
     "output_type": "display_data"
    },
    {
     "data": {
      "text/html": [
       "<table class=\"dataframe\">\n",
       "<caption>A tibble: 1 × 2</caption>\n",
       "<thead>\n",
       "\t<tr><th scope=col>ci_lower</th><th scope=col>ci_upper</th></tr>\n",
       "\t<tr><th scope=col>&lt;dbl&gt;</th><th scope=col>&lt;dbl&gt;</th></tr>\n",
       "</thead>\n",
       "<tbody>\n",
       "\t<tr><td>27.8779</td><td>30.10915</td></tr>\n",
       "</tbody>\n",
       "</table>\n"
      ],
      "text/latex": [
       "A tibble: 1 × 2\n",
       "\\begin{tabular}{ll}\n",
       " ci\\_lower & ci\\_upper\\\\\n",
       " <dbl> & <dbl>\\\\\n",
       "\\hline\n",
       "\t 27.8779 & 30.10915\\\\\n",
       "\\end{tabular}\n"
      ],
      "text/markdown": [
       "\n",
       "A tibble: 1 × 2\n",
       "\n",
       "| ci_lower &lt;dbl&gt; | ci_upper &lt;dbl&gt; |\n",
       "|---|---|\n",
       "| 27.8779 | 30.10915 |\n",
       "\n"
      ],
      "text/plain": [
       "  ci_lower ci_upper\n",
       "1 27.8779  30.10915"
      ]
     },
     "metadata": {},
     "output_type": "display_data"
    }
   ],
   "source": [
    "head(sample_nondiabetic, n = 2)\n",
    "head(bootstrap_nondiabetic, n = 2)\n",
    "interval_nondiabetic"
   ]
  },
  {
   "cell_type": "code",
   "execution_count": 216,
   "id": "1431302b-fceb-4987-90c9-ca8e39ff2426",
   "metadata": {},
   "outputs": [
    {
     "data": {
      "image/png": "[encoded data removed]",
      "text/plain": [
       "plot without title"
      ]
     },
     "metadata": {
      "image/png": {
       "height": 480,
       "width": 480
      }
     },
     "output_type": "display_data"
    }
   ],
   "source": [
    "nondiabetic_hist"
   ]
  },
  {
   "cell_type": "code",
   "execution_count": 217,
   "id": "e20ca269-2c9b-487d-9d7f-f8383f00c181",
   "metadata": {},
   "outputs": [],
   "source": [
    "# We found the BMI value in confidence interval of non-diabetic group is indeed lower than that of diabetic group.\n",
    "# The difference in mean (by how much, and regarding how much confidence and significant our result is) will be study further in our analysis. "
   ]
  },
  {
   "cell_type": "markdown",
   "id": "e0b08895-06df-4474-a7ca-17d263cd3654",
   "metadata": {
    "tags": []
   },
   "source": [
    "## Method/Plan"
   ]
  },
  {
   "cell_type": "markdown",
   "id": "4bcb6e6f-e8cc-4313-9255-b173f7ce918e",
   "metadata": {},
   "source": [
    "Bootstrapping and hypothesis testing via randomization will be used to conduct this inferential study. Let m1 be the mean BMI value for females with diabetes, and m2 be the mean BMI value for females without diabetes. We want to test:\n"
   ]
  },
  {
   "cell_type": "markdown",
   "id": "0daddfa8-e4a8-4bde-be8b-ee063ccb5dbd",
   "metadata": {},
   "source": [
    "<center>\n",
    "$H_0: m_{1} = m_{2}$ \n",
    "and\n",
    "$H_a: m_{1} > m_{2}$\n",
    "</center>"
   ]
  },
  {
   "cell_type": "markdown",
   "id": "3e8d6979-9800-4ec4-aa67-ab9ba555f50a",
   "metadata": {},
   "source": [
    "This report is reliable because a random sample of size 100 was created using the R programming language. The observed bootstrap sampling distribution above is symmetrical and normal, implying that our sample size is sufficient. Thus, this signifies our sample is both representative of the population and unbiased. As a result, the estimate's result is likely generalizable to the broader population.\n",
    " \n",
    "However, the plots and estimates produced are not enough to give to a stakeholder. Firstly, there is some degree of ambiguity as this study infers the population based on sample data. Therefore, to address this gap, this study would provide a broader confidence interval - with a 95% confidence level - to ensure the true difference in means is included, as well as correlated margin of error. Secondly, to make sure the analysis result is relatively replicable, our study will provide a p-value at the 5% significance level in our hypothesis test.\n",
    "\n",
    "We predict that people with diabetes have higher average (mean) BMI than those who do not have diabetes. In other words, any increase in BMI above normal weight levels is associated with an increased risk of being diagnosed as having complications of diabetes mellitus. However, not all overweight or obese patients had these metabolic diseases and not all with these conditions were overweight or obese.\n",
    "\n",
    "Understanding the link between body weight and metabolic illnesses is essential to comprehending the pathophysiological mechanisms that underlie these diseases. Given the considerable health and financial costs associated with diabetes, our findings also have important policy-forming formulations, which help improve early evaluation and management of risk factors leading to Diabetes.\n",
    "\n",
    "Future studies may investigate the effect of abdominal obesity on diabetes, as well as the relationship between food environment and diabetes. One could compare the average amount of fast-food consumption of people with diabetes to those who do not have diabetes. A longitudinal experiment on diabetic patients could also provide a better understanding of how the effects of rising BMI on the likelihood of diabetes change overtime.\n"
   ]
  },
  {
   "cell_type": "markdown",
   "id": "26eeb76b-b15d-485f-8aae-c9649c449709",
   "metadata": {},
   "source": [
    "## References"
   ]
  },
  {
   "cell_type": "markdown",
   "id": "1377e576-9e97-4170-9f47-62b7b33453ca",
   "metadata": {},
   "source": [
    "Huang, J. (2015). Commentary on “Relation between BMI and Diabetes Mellitus and Its Complications among US Older Adults”. Southern Medical Journal, 108 (1), 37-38. doi: 10.14423/SMJ.0000000000000215.\n",
    "\n",
    "Gray, N. , Picone, G. , Sloan, F. & Yashkin, A. (2015). Relation between BMI and Diabetes Mellitus and Its Complications among US Older Adults. Southern Medical Journal, 108 (1), 29-36. doi: 10.14423/SMJ.0000000000000214.\n",
    "\n",
    "Namdev, P. (2018, March 25). Diabetes_dataset. Kaggle. Retrieved July 21, 2022, from https://www.kaggle.com/datasets/pushprajnamdev/diabetes-dataset?resource=download&select=diabetes.csv\n"
   ]
  }
 ],
 "metadata": {
  "kernelspec": {
   "display_name": "R",
   "language": "R",
   "name": "ir"
  },
  "language_info": {
   "codemirror_mode": "r",
   "file_extension": ".r",
   "mimetype": "text/x-r-source",
   "name": "R",
   "pygments_lexer": "r",
   "version": "4.0.5"
  }
 },
 "nbformat": 4,
 "nbformat_minor": 5
}
