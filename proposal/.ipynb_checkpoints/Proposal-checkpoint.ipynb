{
 "cells": [
  {
   "cell_type": "markdown",
   "id": "d14c73aa-7e4f-4750-844e-fc0d87dc827b",
   "metadata": {},
   "source": [
    "# Inference Question About Diabetes"
   ]
  },
  {
   "cell_type": "code",
   "execution_count": 3,
   "id": "839e2fcf-26e3-4e26-96d5-baeb706f111c",
   "metadata": {},
   "outputs": [],
   "source": [
    "library(cowplot)\n",
    "library(digest)\n",
    "library(gridExtra)\n",
    "library(infer)\n",
    "library(repr)\n",
    "library(tidyverse)\n",
    "library(datateachr)"
   ]
  },
  {
   "cell_type": "code",
   "execution_count": 4,
   "id": "715a22b7-242c-4f4a-86be-22ff3029cbf7",
   "metadata": {},
   "outputs": [],
   "source": [
    "set.seed(999)"
   ]
  },
  {
   "cell_type": "code",
   "execution_count": 5,
   "id": "9569fafa-ae0e-4353-9ddc-d4481dd23a51",
   "metadata": {},
   "outputs": [
    {
     "name": "stderr",
     "output_type": "stream",
     "text": [
      "\u001b[1mRows: \u001b[22m\u001b[34m768\u001b[39m \u001b[1mColumns: \u001b[22m\u001b[34m9\u001b[39m\n",
      "\u001b[36m──\u001b[39m \u001b[1mColumn specification\u001b[22m \u001b[36m────────────────────────────────────────────────────────\u001b[39m\n",
      "\u001b[1mDelimiter:\u001b[22m \",\"\n",
      "\u001b[32mdbl\u001b[39m (8): pregnancies, glucose, bloodpressure, skinthickness, insulin, bmi, d...\n",
      "\u001b[33mlgl\u001b[39m (1): outcome\n",
      "\n",
      "\u001b[36mℹ\u001b[39m Use `spec()` to retrieve the full column specification for this data.\n",
      "\u001b[36mℹ\u001b[39m Specify the column types or set `show_col_types = FALSE` to quiet this message.\n"
     ]
    }
   ],
   "source": [
    "diabetes <- read_csv('https://raw.githubusercontent.com/Kayleeli/STAT201-Group-23/main/data/diabetes.csv') "
   ]
  },
  {
   "cell_type": "code",
   "execution_count": 6,
   "id": "8691e498-9057-4c54-bb0b-a48c6491a424",
   "metadata": {},
   "outputs": [
    {
     "data": {
      "text/html": [
       "<table class=\"dataframe\">\n",
       "<caption>A tibble: 6 × 9</caption>\n",
       "<thead>\n",
       "\t<tr><th scope=col>pregnancies</th><th scope=col>glucose</th><th scope=col>bloodpressure</th><th scope=col>skinthickness</th><th scope=col>insulin</th><th scope=col>bmi</th><th scope=col>diabetespedigreefunction</th><th scope=col>age</th><th scope=col>outcome</th></tr>\n",
       "\t<tr><th scope=col>&lt;dbl&gt;</th><th scope=col>&lt;dbl&gt;</th><th scope=col>&lt;dbl&gt;</th><th scope=col>&lt;dbl&gt;</th><th scope=col>&lt;dbl&gt;</th><th scope=col>&lt;dbl&gt;</th><th scope=col>&lt;dbl&gt;</th><th scope=col>&lt;dbl&gt;</th><th scope=col>&lt;lgl&gt;</th></tr>\n",
       "</thead>\n",
       "<tbody>\n",
       "\t<tr><td>6</td><td>148</td><td>72</td><td>35</td><td>  0</td><td>33.6</td><td>0.627</td><td>50</td><td> TRUE</td></tr>\n",
       "\t<tr><td>1</td><td> 85</td><td>66</td><td>29</td><td>  0</td><td>26.6</td><td>0.351</td><td>31</td><td>FALSE</td></tr>\n",
       "\t<tr><td>8</td><td>183</td><td>64</td><td> 0</td><td>  0</td><td>23.3</td><td>0.672</td><td>32</td><td> TRUE</td></tr>\n",
       "\t<tr><td>1</td><td> 89</td><td>66</td><td>23</td><td> 94</td><td>28.1</td><td>0.167</td><td>21</td><td>FALSE</td></tr>\n",
       "\t<tr><td>0</td><td>137</td><td>40</td><td>35</td><td>168</td><td>43.1</td><td>2.288</td><td>33</td><td> TRUE</td></tr>\n",
       "\t<tr><td>5</td><td>116</td><td>74</td><td> 0</td><td>  0</td><td>25.6</td><td>0.201</td><td>30</td><td>FALSE</td></tr>\n",
       "</tbody>\n",
       "</table>\n"
      ],
      "text/latex": [
       "A tibble: 6 × 9\n",
       "\\begin{tabular}{lllllllll}\n",
       " pregnancies & glucose & bloodpressure & skinthickness & insulin & bmi & diabetespedigreefunction & age & outcome\\\\\n",
       " <dbl> & <dbl> & <dbl> & <dbl> & <dbl> & <dbl> & <dbl> & <dbl> & <lgl>\\\\\n",
       "\\hline\n",
       "\t 6 & 148 & 72 & 35 &   0 & 33.6 & 0.627 & 50 &  TRUE\\\\\n",
       "\t 1 &  85 & 66 & 29 &   0 & 26.6 & 0.351 & 31 & FALSE\\\\\n",
       "\t 8 & 183 & 64 &  0 &   0 & 23.3 & 0.672 & 32 &  TRUE\\\\\n",
       "\t 1 &  89 & 66 & 23 &  94 & 28.1 & 0.167 & 21 & FALSE\\\\\n",
       "\t 0 & 137 & 40 & 35 & 168 & 43.1 & 2.288 & 33 &  TRUE\\\\\n",
       "\t 5 & 116 & 74 &  0 &   0 & 25.6 & 0.201 & 30 & FALSE\\\\\n",
       "\\end{tabular}\n"
      ],
      "text/markdown": [
       "\n",
       "A tibble: 6 × 9\n",
       "\n",
       "| pregnancies &lt;dbl&gt; | glucose &lt;dbl&gt; | bloodpressure &lt;dbl&gt; | skinthickness &lt;dbl&gt; | insulin &lt;dbl&gt; | bmi &lt;dbl&gt; | diabetespedigreefunction &lt;dbl&gt; | age &lt;dbl&gt; | outcome &lt;lgl&gt; |\n",
       "|---|---|---|---|---|---|---|---|---|\n",
       "| 6 | 148 | 72 | 35 |   0 | 33.6 | 0.627 | 50 |  TRUE |\n",
       "| 1 |  85 | 66 | 29 |   0 | 26.6 | 0.351 | 31 | FALSE |\n",
       "| 8 | 183 | 64 |  0 |   0 | 23.3 | 0.672 | 32 |  TRUE |\n",
       "| 1 |  89 | 66 | 23 |  94 | 28.1 | 0.167 | 21 | FALSE |\n",
       "| 0 | 137 | 40 | 35 | 168 | 43.1 | 2.288 | 33 |  TRUE |\n",
       "| 5 | 116 | 74 |  0 |   0 | 25.6 | 0.201 | 30 | FALSE |\n",
       "\n"
      ],
      "text/plain": [
       "  pregnancies glucose bloodpressure skinthickness insulin bmi \n",
       "1 6           148     72            35              0     33.6\n",
       "2 1            85     66            29              0     26.6\n",
       "3 8           183     64             0              0     23.3\n",
       "4 1            89     66            23             94     28.1\n",
       "5 0           137     40            35            168     43.1\n",
       "6 5           116     74             0              0     25.6\n",
       "  diabetespedigreefunction age outcome\n",
       "1 0.627                    50   TRUE  \n",
       "2 0.351                    31  FALSE  \n",
       "3 0.672                    32   TRUE  \n",
       "4 0.167                    21  FALSE  \n",
       "5 2.288                    33   TRUE  \n",
       "6 0.201                    30  FALSE  "
      ]
     },
     "metadata": {},
     "output_type": "display_data"
    }
   ],
   "source": [
    "head(diabetes)"
   ]
  },
  {
   "cell_type": "markdown",
   "id": "82d8dcb0-e543-4921-baae-e525ccab3228",
   "metadata": {},
   "source": [
    "1. split people into 2 groups based on outcome, true means diabetes, false means without diabetes.\n",
    "2. we only focus on the relationship between bmi and outcome"
   ]
  },
  {
   "cell_type": "code",
   "execution_count": 8,
   "id": "08c65096-6cae-4769-977e-b092a030a0de",
   "metadata": {},
   "outputs": [
    {
     "data": {
      "text/html": [
       "<table class=\"dataframe\">\n",
       "<caption>A tibble: 6 × 1</caption>\n",
       "<thead>\n",
       "\t<tr><th scope=col>bmi</th></tr>\n",
       "\t<tr><th scope=col>&lt;dbl&gt;</th></tr>\n",
       "</thead>\n",
       "<tbody>\n",
       "\t<tr><td>33.6</td></tr>\n",
       "\t<tr><td>23.3</td></tr>\n",
       "\t<tr><td>43.1</td></tr>\n",
       "\t<tr><td>31.0</td></tr>\n",
       "\t<tr><td>30.5</td></tr>\n",
       "\t<tr><td> 0.0</td></tr>\n",
       "</tbody>\n",
       "</table>\n"
      ],
      "text/latex": [
       "A tibble: 6 × 1\n",
       "\\begin{tabular}{l}\n",
       " bmi\\\\\n",
       " <dbl>\\\\\n",
       "\\hline\n",
       "\t 33.6\\\\\n",
       "\t 23.3\\\\\n",
       "\t 43.1\\\\\n",
       "\t 31.0\\\\\n",
       "\t 30.5\\\\\n",
       "\t  0.0\\\\\n",
       "\\end{tabular}\n"
      ],
      "text/markdown": [
       "\n",
       "A tibble: 6 × 1\n",
       "\n",
       "| bmi &lt;dbl&gt; |\n",
       "|---|\n",
       "| 33.6 |\n",
       "| 23.3 |\n",
       "| 43.1 |\n",
       "| 31.0 |\n",
       "| 30.5 |\n",
       "|  0.0 |\n",
       "\n"
      ],
      "text/plain": [
       "  bmi \n",
       "1 33.6\n",
       "2 23.3\n",
       "3 43.1\n",
       "4 31.0\n",
       "5 30.5\n",
       "6  0.0"
      ]
     },
     "metadata": {},
     "output_type": "display_data"
    },
    {
     "data": {
      "text/html": [
       "<table class=\"dataframe\">\n",
       "<caption>A tibble: 6 × 1</caption>\n",
       "<thead>\n",
       "\t<tr><th scope=col>bmi</th></tr>\n",
       "\t<tr><th scope=col>&lt;dbl&gt;</th></tr>\n",
       "</thead>\n",
       "<tbody>\n",
       "\t<tr><td>26.6</td></tr>\n",
       "\t<tr><td>28.1</td></tr>\n",
       "\t<tr><td>25.6</td></tr>\n",
       "\t<tr><td>35.3</td></tr>\n",
       "\t<tr><td>37.6</td></tr>\n",
       "\t<tr><td>27.1</td></tr>\n",
       "</tbody>\n",
       "</table>\n"
      ],
      "text/latex": [
       "A tibble: 6 × 1\n",
       "\\begin{tabular}{l}\n",
       " bmi\\\\\n",
       " <dbl>\\\\\n",
       "\\hline\n",
       "\t 26.6\\\\\n",
       "\t 28.1\\\\\n",
       "\t 25.6\\\\\n",
       "\t 35.3\\\\\n",
       "\t 37.6\\\\\n",
       "\t 27.1\\\\\n",
       "\\end{tabular}\n"
      ],
      "text/markdown": [
       "\n",
       "A tibble: 6 × 1\n",
       "\n",
       "| bmi &lt;dbl&gt; |\n",
       "|---|\n",
       "| 26.6 |\n",
       "| 28.1 |\n",
       "| 25.6 |\n",
       "| 35.3 |\n",
       "| 37.6 |\n",
       "| 27.1 |\n",
       "\n"
      ],
      "text/plain": [
       "  bmi \n",
       "1 26.6\n",
       "2 28.1\n",
       "3 25.6\n",
       "4 35.3\n",
       "5 37.6\n",
       "6 27.1"
      ]
     },
     "metadata": {},
     "output_type": "display_data"
    }
   ],
   "source": [
    "diabetes_group <- diabetes %>%\n",
    "                  filter(outcome==\"TRUE\") %>%\n",
    "                  select(bmi)\n",
    "\n",
    "healthy_group <- diabetes %>%\n",
    "                 filter(outcome==\"FALSE\") %>%\n",
    "                 select(bmi)\n",
    "head(diabetes_group)\n",
    "head(healthy_group)"
   ]
  },
  {
   "cell_type": "markdown",
   "id": "f2a488d7-29ac-4a97-a225-ba183d4cbf75",
   "metadata": {},
   "source": [
    "  we try to compare the difference of mean bmi value between two groups. we will use bootstrapping methods, getting a accurate estimator of mean bmi value for each group."
   ]
  },
  {
   "cell_type": "markdown",
   "id": "68c9583c-cfef-428d-b695-61be4dd786a9",
   "metadata": {},
   "source": [
    "(1) we ramdomly create a single single, size=100, from diabetes_group."
   ]
  },
  {
   "cell_type": "code",
   "execution_count": 9,
   "id": "87dc66f5-4ab7-4e5e-944a-600efa955f79",
   "metadata": {},
   "outputs": [
    {
     "data": {
      "text/html": [
       "<table class=\"dataframe\">\n",
       "<caption>A tibble: 6 × 2</caption>\n",
       "<thead>\n",
       "\t<tr><th scope=col>replicate</th><th scope=col>bmi</th></tr>\n",
       "\t<tr><th scope=col>&lt;int&gt;</th><th scope=col>&lt;dbl&gt;</th></tr>\n",
       "</thead>\n",
       "<tbody>\n",
       "\t<tr><td>1</td><td>35.4</td></tr>\n",
       "\t<tr><td>1</td><td>52.3</td></tr>\n",
       "\t<tr><td>1</td><td>32.8</td></tr>\n",
       "\t<tr><td>1</td><td>31.6</td></tr>\n",
       "\t<tr><td>1</td><td>30.0</td></tr>\n",
       "\t<tr><td>1</td><td>32.9</td></tr>\n",
       "</tbody>\n",
       "</table>\n"
      ],
      "text/latex": [
       "A tibble: 6 × 2\n",
       "\\begin{tabular}{ll}\n",
       " replicate & bmi\\\\\n",
       " <int> & <dbl>\\\\\n",
       "\\hline\n",
       "\t 1 & 35.4\\\\\n",
       "\t 1 & 52.3\\\\\n",
       "\t 1 & 32.8\\\\\n",
       "\t 1 & 31.6\\\\\n",
       "\t 1 & 30.0\\\\\n",
       "\t 1 & 32.9\\\\\n",
       "\\end{tabular}\n"
      ],
      "text/markdown": [
       "\n",
       "A tibble: 6 × 2\n",
       "\n",
       "| replicate &lt;int&gt; | bmi &lt;dbl&gt; |\n",
       "|---|---|\n",
       "| 1 | 35.4 |\n",
       "| 1 | 52.3 |\n",
       "| 1 | 32.8 |\n",
       "| 1 | 31.6 |\n",
       "| 1 | 30.0 |\n",
       "| 1 | 32.9 |\n",
       "\n"
      ],
      "text/plain": [
       "  replicate bmi \n",
       "1 1         35.4\n",
       "2 1         52.3\n",
       "3 1         32.8\n",
       "4 1         31.6\n",
       "5 1         30.0\n",
       "6 1         32.9"
      ]
     },
     "metadata": {},
     "output_type": "display_data"
    }
   ],
   "source": [
    "sample_diabetes <- diabetes_group %>%\n",
    "                   rep_sample_n(size=100, reps=1, replace=FALSE) %>%\n",
    "                   ungroup()\n",
    "\n",
    "head(sample_diabetes)                   "
   ]
  },
  {
   "cell_type": "markdown",
   "id": "dfc54a3e-60e0-43d7-806f-1b5542c16423",
   "metadata": {},
   "source": [
    "(2) we create 1000 bootstrap samples based on this single sample and find mean bmi value for each sample"
   ]
  },
  {
   "cell_type": "code",
   "execution_count": 10,
   "id": "85a0ca3a-7df2-4c69-88ab-33516803f1ad",
   "metadata": {},
   "outputs": [
    {
     "data": {
      "text/html": [
       "<table class=\"dataframe\">\n",
       "<caption>A tibble: 6 × 1</caption>\n",
       "<thead>\n",
       "\t<tr><th scope=col>mean_bmi</th></tr>\n",
       "\t<tr><th scope=col>&lt;dbl&gt;</th></tr>\n",
       "</thead>\n",
       "<tbody>\n",
       "\t<tr><td>34.318</td></tr>\n",
       "\t<tr><td>35.939</td></tr>\n",
       "\t<tr><td>34.971</td></tr>\n",
       "\t<tr><td>34.867</td></tr>\n",
       "\t<tr><td>35.553</td></tr>\n",
       "\t<tr><td>34.347</td></tr>\n",
       "</tbody>\n",
       "</table>\n"
      ],
      "text/latex": [
       "A tibble: 6 × 1\n",
       "\\begin{tabular}{l}\n",
       " mean\\_bmi\\\\\n",
       " <dbl>\\\\\n",
       "\\hline\n",
       "\t 34.318\\\\\n",
       "\t 35.939\\\\\n",
       "\t 34.971\\\\\n",
       "\t 34.867\\\\\n",
       "\t 35.553\\\\\n",
       "\t 34.347\\\\\n",
       "\\end{tabular}\n"
      ],
      "text/markdown": [
       "\n",
       "A tibble: 6 × 1\n",
       "\n",
       "| mean_bmi &lt;dbl&gt; |\n",
       "|---|\n",
       "| 34.318 |\n",
       "| 35.939 |\n",
       "| 34.971 |\n",
       "| 34.867 |\n",
       "| 35.553 |\n",
       "| 34.347 |\n",
       "\n"
      ],
      "text/plain": [
       "  mean_bmi\n",
       "1 34.318  \n",
       "2 35.939  \n",
       "3 34.971  \n",
       "4 34.867  \n",
       "5 35.553  \n",
       "6 34.347  "
      ]
     },
     "metadata": {},
     "output_type": "display_data"
    }
   ],
   "source": [
    "bootstrap_diabetes <- diabetes_group %>%\n",
    "                      rep_sample_n(size=100, reps=1000, replace=TRUE) %>%\n",
    "                      group_by(replicate) %>%\n",
    "                      summarize(mean_bmi = mean(bmi)) %>%\n",
    "                      select(mean_bmi)\n",
    "head(bootstrap_diabetes)"
   ]
  },
  {
   "cell_type": "markdown",
   "id": "937c2b3b-30e1-41b0-ac51-ddccea41e686",
   "metadata": {},
   "source": [
    "(3) find the 90% confidence interval for diabetes_group"
   ]
  },
  {
   "cell_type": "code",
   "execution_count": 11,
   "id": "8719ae20-8c34-472b-b9a9-a32c9adfad4a",
   "metadata": {},
   "outputs": [
    {
     "data": {
      "text/html": [
       "<table class=\"dataframe\">\n",
       "<caption>A tibble: 1 × 2</caption>\n",
       "<thead>\n",
       "\t<tr><th scope=col>ci_lower</th><th scope=col>ci_upper</th></tr>\n",
       "\t<tr><th scope=col>&lt;dbl&gt;</th><th scope=col>&lt;dbl&gt;</th></tr>\n",
       "</thead>\n",
       "<tbody>\n",
       "\t<tr><td>33.8957</td><td>36.34305</td></tr>\n",
       "</tbody>\n",
       "</table>\n"
      ],
      "text/latex": [
       "A tibble: 1 × 2\n",
       "\\begin{tabular}{ll}\n",
       " ci\\_lower & ci\\_upper\\\\\n",
       " <dbl> & <dbl>\\\\\n",
       "\\hline\n",
       "\t 33.8957 & 36.34305\\\\\n",
       "\\end{tabular}\n"
      ],
      "text/markdown": [
       "\n",
       "A tibble: 1 × 2\n",
       "\n",
       "| ci_lower &lt;dbl&gt; | ci_upper &lt;dbl&gt; |\n",
       "|---|---|\n",
       "| 33.8957 | 36.34305 |\n",
       "\n"
      ],
      "text/plain": [
       "  ci_lower ci_upper\n",
       "1 33.8957  36.34305"
      ]
     },
     "metadata": {},
     "output_type": "display_data"
    }
   ],
   "source": [
    "interval_diabetes <- \n",
    "    bootstrap_diabetes %>% \n",
    "    summarize(ci_lower = quantile(mean_bmi, 0.05),\n",
    "              ci_upper = quantile(mean_bmi, 0.95))\n",
    "              \n",
    "\n",
    "interval_diabetes"
   ]
  },
  {
   "cell_type": "markdown",
   "id": "f927f903-8f9e-42b7-9b83-ab5d98141be5",
   "metadata": {},
   "source": [
    "(4) create the histogram plot"
   ]
  },
  {
   "cell_type": "code",
   "execution_count": 12,
   "id": "a2b94218-3889-4778-a582-8247c94bf545",
   "metadata": {},
   "outputs": [
    {
     "data": {
      "image/png": "[encoded data removed]",
      "text/plain": [
       "plot without title"
      ]
     },
     "metadata": {
      "image/png": {
       "height": 420,
       "width": 420
      }
     },
     "output_type": "display_data"
    }
   ],
   "source": [
    "diabetes_hist <- bootstrap_diabetes %>%\n",
    "                 ggplot(aes(x=mean_bmi))+\n",
    "                 geom_histogram(binwidth=0.1, color=\"white\")+\n",
    "                 annotate(\"rect\", xmin = interval_diabetes$ci_lower, xmax = interval_diabetes$ci_upper, ymin = 0, ymax = Inf,\n",
    "             fill = \"deepskyblue\",\n",
    "             alpha = 0.3)+\n",
    "             labs(x=\"bmi mean value\")+\n",
    "             ggtitle(\"diabetes group\")\n",
    "diabetes_hist"
   ]
  },
  {
   "cell_type": "markdown",
   "id": "8d60edc8-2c40-4e51-b807-d627b853fd7b",
   "metadata": {},
   "source": [
    "we repeat all the steps above for healthy group"
   ]
  },
  {
   "cell_type": "code",
   "execution_count": 13,
   "id": "cb5e3c89-4f86-4b4a-a121-239f5bdb4836",
   "metadata": {},
   "outputs": [
    {
     "data": {
      "text/html": [
       "<table class=\"dataframe\">\n",
       "<caption>A tibble: 6 × 2</caption>\n",
       "<thead>\n",
       "\t<tr><th scope=col>replicate</th><th scope=col>bmi</th></tr>\n",
       "\t<tr><th scope=col>&lt;int&gt;</th><th scope=col>&lt;dbl&gt;</th></tr>\n",
       "</thead>\n",
       "<tbody>\n",
       "\t<tr><td>1</td><td>34.1</td></tr>\n",
       "\t<tr><td>1</td><td>29.8</td></tr>\n",
       "\t<tr><td>1</td><td>29.0</td></tr>\n",
       "\t<tr><td>1</td><td>29.5</td></tr>\n",
       "\t<tr><td>1</td><td>33.8</td></tr>\n",
       "\t<tr><td>1</td><td>25.4</td></tr>\n",
       "</tbody>\n",
       "</table>\n"
      ],
      "text/latex": [
       "A tibble: 6 × 2\n",
       "\\begin{tabular}{ll}\n",
       " replicate & bmi\\\\\n",
       " <int> & <dbl>\\\\\n",
       "\\hline\n",
       "\t 1 & 34.1\\\\\n",
       "\t 1 & 29.8\\\\\n",
       "\t 1 & 29.0\\\\\n",
       "\t 1 & 29.5\\\\\n",
       "\t 1 & 33.8\\\\\n",
       "\t 1 & 25.4\\\\\n",
       "\\end{tabular}\n"
      ],
      "text/markdown": [
       "\n",
       "A tibble: 6 × 2\n",
       "\n",
       "| replicate &lt;int&gt; | bmi &lt;dbl&gt; |\n",
       "|---|---|\n",
       "| 1 | 34.1 |\n",
       "| 1 | 29.8 |\n",
       "| 1 | 29.0 |\n",
       "| 1 | 29.5 |\n",
       "| 1 | 33.8 |\n",
       "| 1 | 25.4 |\n",
       "\n"
      ],
      "text/plain": [
       "  replicate bmi \n",
       "1 1         34.1\n",
       "2 1         29.8\n",
       "3 1         29.0\n",
       "4 1         29.5\n",
       "5 1         33.8\n",
       "6 1         25.4"
      ]
     },
     "metadata": {},
     "output_type": "display_data"
    }
   ],
   "source": [
    "sample_healthy <- healthy_group %>%\n",
    "                   rep_sample_n(size=100, reps=1, replace=FALSE) %>%\n",
    "                   ungroup()\n",
    "\n",
    "head(sample_healthy)                   "
   ]
  },
  {
   "cell_type": "code",
   "execution_count": 18,
   "id": "f25f3a5f-627b-4b27-be98-80590e70e06d",
   "metadata": {},
   "outputs": [
    {
     "data": {
      "text/html": [
       "<table class=\"dataframe\">\n",
       "<caption>A tibble: 6 × 1</caption>\n",
       "<thead>\n",
       "\t<tr><th scope=col>mean_bmi</th></tr>\n",
       "\t<tr><th scope=col>&lt;dbl&gt;</th></tr>\n",
       "</thead>\n",
       "<tbody>\n",
       "\t<tr><td>28.696</td></tr>\n",
       "\t<tr><td>30.246</td></tr>\n",
       "\t<tr><td>30.391</td></tr>\n",
       "\t<tr><td>30.833</td></tr>\n",
       "\t<tr><td>31.338</td></tr>\n",
       "\t<tr><td>31.072</td></tr>\n",
       "</tbody>\n",
       "</table>\n"
      ],
      "text/latex": [
       "A tibble: 6 × 1\n",
       "\\begin{tabular}{l}\n",
       " mean\\_bmi\\\\\n",
       " <dbl>\\\\\n",
       "\\hline\n",
       "\t 28.696\\\\\n",
       "\t 30.246\\\\\n",
       "\t 30.391\\\\\n",
       "\t 30.833\\\\\n",
       "\t 31.338\\\\\n",
       "\t 31.072\\\\\n",
       "\\end{tabular}\n"
      ],
      "text/markdown": [
       "\n",
       "A tibble: 6 × 1\n",
       "\n",
       "| mean_bmi &lt;dbl&gt; |\n",
       "|---|\n",
       "| 28.696 |\n",
       "| 30.246 |\n",
       "| 30.391 |\n",
       "| 30.833 |\n",
       "| 31.338 |\n",
       "| 31.072 |\n",
       "\n"
      ],
      "text/plain": [
       "  mean_bmi\n",
       "1 28.696  \n",
       "2 30.246  \n",
       "3 30.391  \n",
       "4 30.833  \n",
       "5 31.338  \n",
       "6 31.072  "
      ]
     },
     "metadata": {},
     "output_type": "display_data"
    }
   ],
   "source": [
    "bootstrap_healthy <- healthy_group %>%\n",
    "                      rep_sample_n(size=100, reps=1000, replace=TRUE) %>%\n",
    "                      group_by(replicate) %>%\n",
    "                      summarize(mean_bmi = mean(bmi)) %>%\n",
    "                      select(mean_bmi)\n",
    "\n",
    "head(bootstrap_healthy)"
   ]
  },
  {
   "cell_type": "code",
   "execution_count": 15,
   "id": "3b796ed0-2266-4459-adce-3bc68d59a0ff",
   "metadata": {},
   "outputs": [
    {
     "data": {
      "text/html": [
       "<table class=\"dataframe\">\n",
       "<caption>A tibble: 1 × 2</caption>\n",
       "<thead>\n",
       "\t<tr><th scope=col>ci_lower</th><th scope=col>ci_upper</th></tr>\n",
       "\t<tr><th scope=col>&lt;dbl&gt;</th><th scope=col>&lt;dbl&gt;</th></tr>\n",
       "</thead>\n",
       "<tbody>\n",
       "\t<tr><td>29.18475</td><td>31.55415</td></tr>\n",
       "</tbody>\n",
       "</table>\n"
      ],
      "text/latex": [
       "A tibble: 1 × 2\n",
       "\\begin{tabular}{ll}\n",
       " ci\\_lower & ci\\_upper\\\\\n",
       " <dbl> & <dbl>\\\\\n",
       "\\hline\n",
       "\t 29.18475 & 31.55415\\\\\n",
       "\\end{tabular}\n"
      ],
      "text/markdown": [
       "\n",
       "A tibble: 1 × 2\n",
       "\n",
       "| ci_lower &lt;dbl&gt; | ci_upper &lt;dbl&gt; |\n",
       "|---|---|\n",
       "| 29.18475 | 31.55415 |\n",
       "\n"
      ],
      "text/plain": [
       "  ci_lower ci_upper\n",
       "1 29.18475 31.55415"
      ]
     },
     "metadata": {},
     "output_type": "display_data"
    }
   ],
   "source": [
    "interval_healthy <- \n",
    "    bootstrap_healthy %>% \n",
    "    summarize(ci_lower = quantile(mean_bmi, 0.05),\n",
    "              ci_upper = quantile(mean_bmi, 0.95))\n",
    "              \n",
    "\n",
    "interval_healthy"
   ]
  },
  {
   "cell_type": "code",
   "execution_count": 19,
   "id": "9ae91702-a203-42c5-ac1a-2d341cf479ea",
   "metadata": {},
   "outputs": [
    {
     "data": {
      "image/png": "[encoded data removed]",
      "text/plain": [
       "plot without title"
      ]
     },
     "metadata": {
      "image/png": {
       "height": 420,
       "width": 420
      }
     },
     "output_type": "display_data"
    }
   ],
   "source": [
    "healthy_hist <- bootstrap_healthy %>%\n",
    "                 ggplot(aes(x=mean_bmi))+\n",
    "                 geom_histogram(binwidth=0.1, color=\"white\")+\n",
    "                 annotate(\"rect\", xmin = interval_healthy$ci_lower, xmax = interval_healthy$ci_upper, ymin = 0, ymax = Inf,\n",
    "             fill = \"deepskyblue\",\n",
    "             alpha = 0.3)+\n",
    "             labs(x=\"bmi mean value\")+\n",
    "             ggtitle(\"healthy group\")\n",
    "healthy_hist"
   ]
  },
  {
   "cell_type": "markdown",
   "id": "93c1d046-7d73-4198-91a1-b9713d7cfd5b",
   "metadata": {},
   "source": [
    "we can found the bmi value in confidence interval of healthy people is lower than that of people get diabetes."
   ]
  },
  {
   "cell_type": "code",
   "execution_count": null,
   "id": "8d83bafb-5c3c-43c3-9df9-37df2d58f62f",
   "metadata": {},
   "outputs": [],
   "source": []
  }
 ],
 "metadata": {
  "kernelspec": {
   "display_name": "R",
   "language": "R",
   "name": "ir"
  },
  "language_info": {
   "codemirror_mode": "r",
   "file_extension": ".r",
   "mimetype": "text/x-r-source",
   "name": "R",
   "pygments_lexer": "r",
   "version": "4.0.5"
  }
 },
 "nbformat": 4,
 "nbformat_minor": 5
}
