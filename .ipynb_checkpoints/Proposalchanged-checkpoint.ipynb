{
 "cells": [
  {
   "cell_type": "markdown",
   "id": "d14c73aa-7e4f-4750-844e-fc0d87dc827b",
   "metadata": {},
   "source": [
    "# Relationship Between Diabetes and Obesity\n"
   ]
  },
  {
   "cell_type": "markdown",
   "id": "bb6d2890-c4b4-4319-8626-56bfbdc71b5a",
   "metadata": {},
   "source": [
    "## Introduction"
   ]
  },
  {
   "cell_type": "markdown",
   "id": "4b9e8148-b0a1-4a43-9490-c10add814d26",
   "metadata": {},
   "source": [
    "Diabetes is a prevalent disease which has dramatically increased in recent years. With advances in healthcare, it would be assumed that the general population is healthy. However, obesity is on the rise and the relationship between the two increasing trends will be investigated. \n",
    "\n",
    "Obesity is quantified through body mass index (BMI), which takes into account a person's height and weight to measure if an individual is healthy. Ideally, an individual will be in the range of 18.5 to 24.9 (NHS, 2012). Although significant research has been done that BMI *may be an underlying risk factor* for being diabetic (Feldma et al., 2017), this study aims to obtain a quantifiable number in the difference in BMI between a diabetic and nondiabetic which will benefit future research. Thus, the research question is: **Is the average (mean) BMI value of people with diabetes higher than those who do not have diabetes?**\n",
    " \n",
    "The dataset was obtained from the National Institute of Diabetes and Digestive and Kidney Diseases (NIDDK) consisting of participants that were females at least 21 years old and their health statistics. The BMI variable (kg/m^2) will be split into two groups based on the outcome (TRUE indicating diabetic, and FALSE indicating non-diabetic) in order to conduct analysis of mean and confidence interval.\n"
   ]
  },
  {
   "cell_type": "markdown",
   "id": "fad60f11-79ba-4278-bee2-a05564868a75",
   "metadata": {},
   "source": [
    "## Preliminary Results"
   ]
  },
  {
   "cell_type": "code",
   "execution_count": 2,
   "id": "839e2fcf-26e3-4e26-96d5-baeb706f111c",
   "metadata": {},
   "outputs": [
    {
     "name": "stderr",
     "output_type": "stream",
     "text": [
      "── \u001b[1mAttaching packages\u001b[22m ─────────────────────────────────────── tidyverse 1.3.0 ──\n",
      "\n",
      "\u001b[32m✔\u001b[39m \u001b[34mggplot2\u001b[39m 3.3.6     \u001b[32m✔\u001b[39m \u001b[34mpurrr  \u001b[39m 0.3.4\n",
      "\u001b[32m✔\u001b[39m \u001b[34mtibble \u001b[39m 3.1.7     \u001b[32m✔\u001b[39m \u001b[34mdplyr  \u001b[39m 1.0.9\n",
      "\u001b[32m✔\u001b[39m \u001b[34mtidyr  \u001b[39m 1.2.0     \u001b[32m✔\u001b[39m \u001b[34mstringr\u001b[39m 1.4.0\n",
      "\u001b[32m✔\u001b[39m \u001b[34mreadr  \u001b[39m 2.1.2     \u001b[32m✔\u001b[39m \u001b[34mforcats\u001b[39m 0.5.1\n",
      "\n",
      "── \u001b[1mConflicts\u001b[22m ────────────────────────────────────────── tidyverse_conflicts() ──\n",
      "\u001b[31m✖\u001b[39m \u001b[34mdplyr\u001b[39m::\u001b[32mcombine()\u001b[39m masks \u001b[34mgridExtra\u001b[39m::combine()\n",
      "\u001b[31m✖\u001b[39m \u001b[34mdplyr\u001b[39m::\u001b[32mfilter()\u001b[39m  masks \u001b[34mstats\u001b[39m::filter()\n",
      "\u001b[31m✖\u001b[39m \u001b[34mdplyr\u001b[39m::\u001b[32mlag()\u001b[39m     masks \u001b[34mstats\u001b[39m::lag()\n",
      "\n"
     ]
    }
   ],
   "source": [
    "library(cowplot)\n",
    "library(digest)\n",
    "library(gridExtra)\n",
    "library(infer)\n",
    "library(repr)\n",
    "library(tidyverse)\n",
    "library(datateachr)"
   ]
  },
  {
   "cell_type": "code",
   "execution_count": 53,
   "id": "715a22b7-242c-4f4a-86be-22ff3029cbf7",
   "metadata": {},
   "outputs": [],
   "source": [
    "set.seed(999)\n",
    "options(repr.plot.width = 15, repr.plot.height = 10) "
   ]
  },
  {
   "cell_type": "code",
   "execution_count": 68,
   "id": "9569fafa-ae0e-4353-9ddc-d4481dd23a51",
   "metadata": {},
   "outputs": [
    {
     "name": "stderr",
     "output_type": "stream",
     "text": [
      "\u001b[1mRows: \u001b[22m\u001b[34m768\u001b[39m \u001b[1mColumns: \u001b[22m\u001b[34m9\u001b[39m\n",
      "\u001b[36m──\u001b[39m \u001b[1mColumn specification\u001b[22m \u001b[36m────────────────────────────────────────────────────────\u001b[39m\n",
      "\u001b[1mDelimiter:\u001b[22m \",\"\n",
      "\u001b[32mdbl\u001b[39m (8): pregnancies, glucose, bloodpressure, skinthickness, insulin, bmi, d...\n",
      "\u001b[33mlgl\u001b[39m (1): outcome\n",
      "\n",
      "\u001b[36mℹ\u001b[39m Use `spec()` to retrieve the full column specification for this data.\n",
      "\u001b[36mℹ\u001b[39m Specify the column types or set `show_col_types = FALSE` to quiet this message.\n"
     ]
    },
    {
     "data": {
      "text/html": [
       "<table class=\"dataframe\">\n",
       "<caption>A tibble: 2 × 9</caption>\n",
       "<thead>\n",
       "\t<tr><th scope=col>pregnancies</th><th scope=col>glucose</th><th scope=col>bloodpressure</th><th scope=col>skinthickness</th><th scope=col>insulin</th><th scope=col>bmi</th><th scope=col>diabetespedigreefunction</th><th scope=col>age</th><th scope=col>outcome</th></tr>\n",
       "\t<tr><th scope=col>&lt;dbl&gt;</th><th scope=col>&lt;dbl&gt;</th><th scope=col>&lt;dbl&gt;</th><th scope=col>&lt;dbl&gt;</th><th scope=col>&lt;dbl&gt;</th><th scope=col>&lt;dbl&gt;</th><th scope=col>&lt;dbl&gt;</th><th scope=col>&lt;dbl&gt;</th><th scope=col>&lt;lgl&gt;</th></tr>\n",
       "</thead>\n",
       "<tbody>\n",
       "\t<tr><td>6</td><td>148</td><td>72</td><td>35</td><td>0</td><td>33.6</td><td>0.627</td><td>50</td><td> TRUE</td></tr>\n",
       "\t<tr><td>1</td><td> 85</td><td>66</td><td>29</td><td>0</td><td>26.6</td><td>0.351</td><td>31</td><td>FALSE</td></tr>\n",
       "</tbody>\n",
       "</table>\n"
      ],
      "text/latex": [
       "A tibble: 2 × 9\n",
       "\\begin{tabular}{lllllllll}\n",
       " pregnancies & glucose & bloodpressure & skinthickness & insulin & bmi & diabetespedigreefunction & age & outcome\\\\\n",
       " <dbl> & <dbl> & <dbl> & <dbl> & <dbl> & <dbl> & <dbl> & <dbl> & <lgl>\\\\\n",
       "\\hline\n",
       "\t 6 & 148 & 72 & 35 & 0 & 33.6 & 0.627 & 50 &  TRUE\\\\\n",
       "\t 1 &  85 & 66 & 29 & 0 & 26.6 & 0.351 & 31 & FALSE\\\\\n",
       "\\end{tabular}\n"
      ],
      "text/markdown": [
       "\n",
       "A tibble: 2 × 9\n",
       "\n",
       "| pregnancies &lt;dbl&gt; | glucose &lt;dbl&gt; | bloodpressure &lt;dbl&gt; | skinthickness &lt;dbl&gt; | insulin &lt;dbl&gt; | bmi &lt;dbl&gt; | diabetespedigreefunction &lt;dbl&gt; | age &lt;dbl&gt; | outcome &lt;lgl&gt; |\n",
       "|---|---|---|---|---|---|---|---|---|\n",
       "| 6 | 148 | 72 | 35 | 0 | 33.6 | 0.627 | 50 |  TRUE |\n",
       "| 1 |  85 | 66 | 29 | 0 | 26.6 | 0.351 | 31 | FALSE |\n",
       "\n"
      ],
      "text/plain": [
       "  pregnancies glucose bloodpressure skinthickness insulin bmi \n",
       "1 6           148     72            35            0       33.6\n",
       "2 1            85     66            29            0       26.6\n",
       "  diabetespedigreefunction age outcome\n",
       "1 0.627                    50   TRUE  \n",
       "2 0.351                    31  FALSE  "
      ]
     },
     "metadata": {},
     "output_type": "display_data"
    }
   ],
   "source": [
    "# dataset read from the web ------------------------------------------------------------\n",
    "diabetes <- read_csv('https://raw.githubusercontent.com/Kayleeli/STAT201-Group-23/main/data/diabetes.csv') \n",
    "head(diabetes, n = 2)"
   ]
  },
  {
   "cell_type": "code",
   "execution_count": 76,
   "id": "18df1d76-2cad-4a34-a974-4979791da731",
   "metadata": {},
   "outputs": [
    {
     "data": {
      "text/html": [
       "<table class=\"dataframe\">\n",
       "<caption>A data.frame: 1 × 1</caption>\n",
       "<thead>\n",
       "\t<tr><th></th><th scope=col>Sample Size (Total Observation in Dataset)</th></tr>\n",
       "\t<tr><th></th><th scope=col>&lt;int&gt;</th></tr>\n",
       "</thead>\n",
       "<tbody>\n",
       "\t<tr><th scope=row>Count</th><td>768</td></tr>\n",
       "</tbody>\n",
       "</table>\n"
      ],
      "text/latex": [
       "A data.frame: 1 × 1\n",
       "\\begin{tabular}{r|l}\n",
       "  & Sample Size (Total Observation in Dataset)\\\\\n",
       "  & <int>\\\\\n",
       "\\hline\n",
       "\tCount & 768\\\\\n",
       "\\end{tabular}\n"
      ],
      "text/markdown": [
       "\n",
       "A data.frame: 1 × 1\n",
       "\n",
       "| <!--/--> | Sample Size (Total Observation in Dataset) &lt;int&gt; |\n",
       "|---|---|\n",
       "| Count | 768 |\n",
       "\n"
      ],
      "text/plain": [
       "      Sample Size (Total Observation in Dataset)\n",
       "Count 768                                       "
      ]
     },
     "metadata": {},
     "output_type": "display_data"
    }
   ],
   "source": [
    "# Check the sample size of our sample is large enough (to ensure it's could pass the CLT assumptions)\n",
    "    sample_size <- matrix(nrow(diabetes), ncol = 1, byrow = TRUE) \n",
    "    colnames(sample_size) <- c(\"Sample Size (Total Observation in Dataset)\")\n",
    "    rownames(sample_size) <- c('Count')\n",
    "    sample_size <- as.data.frame(sample_size)\n",
    "\n",
    "sample_size"
   ]
  },
  {
   "cell_type": "code",
   "execution_count": 77,
   "id": "a2de7282-ed24-49cb-9edc-3814ae7600a0",
   "metadata": {},
   "outputs": [
    {
     "data": {
      "text/html": [
       "<table class=\"dataframe\">\n",
       "<caption>A tibble: 2 × 1</caption>\n",
       "<thead>\n",
       "\t<tr><th scope=col>bmi</th></tr>\n",
       "\t<tr><th scope=col>&lt;dbl&gt;</th></tr>\n",
       "</thead>\n",
       "<tbody>\n",
       "\t<tr><td>33.6</td></tr>\n",
       "\t<tr><td>23.3</td></tr>\n",
       "</tbody>\n",
       "</table>\n"
      ],
      "text/latex": [
       "A tibble: 2 × 1\n",
       "\\begin{tabular}{l}\n",
       " bmi\\\\\n",
       " <dbl>\\\\\n",
       "\\hline\n",
       "\t 33.6\\\\\n",
       "\t 23.3\\\\\n",
       "\\end{tabular}\n"
      ],
      "text/markdown": [
       "\n",
       "A tibble: 2 × 1\n",
       "\n",
       "| bmi &lt;dbl&gt; |\n",
       "|---|\n",
       "| 33.6 |\n",
       "| 23.3 |\n",
       "\n"
      ],
      "text/plain": [
       "  bmi \n",
       "1 33.6\n",
       "2 23.3"
      ]
     },
     "metadata": {},
     "output_type": "display_data"
    },
    {
     "data": {
      "text/html": [
       "<table class=\"dataframe\">\n",
       "<caption>A tibble: 2 × 1</caption>\n",
       "<thead>\n",
       "\t<tr><th scope=col>bmi</th></tr>\n",
       "\t<tr><th scope=col>&lt;dbl&gt;</th></tr>\n",
       "</thead>\n",
       "<tbody>\n",
       "\t<tr><td>26.6</td></tr>\n",
       "\t<tr><td>28.1</td></tr>\n",
       "</tbody>\n",
       "</table>\n"
      ],
      "text/latex": [
       "A tibble: 2 × 1\n",
       "\\begin{tabular}{l}\n",
       " bmi\\\\\n",
       " <dbl>\\\\\n",
       "\\hline\n",
       "\t 26.6\\\\\n",
       "\t 28.1\\\\\n",
       "\\end{tabular}\n"
      ],
      "text/markdown": [
       "\n",
       "A tibble: 2 × 1\n",
       "\n",
       "| bmi &lt;dbl&gt; |\n",
       "|---|\n",
       "| 26.6 |\n",
       "| 28.1 |\n",
       "\n"
      ],
      "text/plain": [
       "  bmi \n",
       "1 26.6\n",
       "2 28.1"
      ]
     },
     "metadata": {},
     "output_type": "display_data"
    }
   ],
   "source": [
    "# clean + wrangled the data into tidy format ------------------------------------------\n",
    "\n",
    "    # because we only want to focus on the relationship between bmi + outcome, selecting only:\n",
    "        # 1) bmi column : body mass index in kg/m^2\n",
    "        # 2) outcome column : TRUE = diabetic , FALSE = Non-diabetic\n",
    "\n",
    "diabetes <- diabetes %>%\n",
    "    select(bmi, outcome)\n",
    "\n",
    "    # splitting people into 2 groups based on \"outcome\" (TRUE (diabetic) vs FALSE (non-diabetic))\n",
    "\n",
    "diabetic_group <- diabetes %>%\n",
    "    filter(outcome==\"TRUE\") %>%\n",
    "    select(bmi)\n",
    "\n",
    "nondiabetic_group <- diabetes %>%\n",
    "    filter(outcome==\"FALSE\") %>%\n",
    "    select(bmi)\n",
    "\n",
    "head(diabetic_group, n = 2)\n",
    "head(nondiabetic_group, n = 2)"
   ]
  },
  {
   "cell_type": "code",
   "execution_count": 78,
   "id": "87dc66f5-4ab7-4e5e-944a-600efa955f79",
   "metadata": {},
   "outputs": [],
   "source": [
    "# Compute estimates of the parameter identified + plot relevant data -------------------"
   ]
  },
  {
   "cell_type": "code",
   "execution_count": 79,
   "id": "0f60fcad-b0f5-408c-92aa-076c2b796335",
   "metadata": {},
   "outputs": [
    {
     "data": {
      "text/html": [
       "<table class=\"dataframe\">\n",
       "<caption>A data.frame: 1 × 3</caption>\n",
       "<thead>\n",
       "\t<tr><th></th><th scope=col>Mean BMI (Diabetic)</th><th scope=col>Mean BMI (Non-Diabetic)</th><th scope=col>Difference in BMI ((Diabetic)-(Non-Diabetic))</th></tr>\n",
       "\t<tr><th></th><th scope=col>&lt;dbl&gt;</th><th scope=col>&lt;dbl&gt;</th><th scope=col>&lt;dbl&gt;</th></tr>\n",
       "</thead>\n",
       "<tbody>\n",
       "\t<tr><th scope=row>Values (in kg/m^2)</th><td>35.14254</td><td>30.3042</td><td>4.838337</td></tr>\n",
       "</tbody>\n",
       "</table>\n"
      ],
      "text/latex": [
       "A data.frame: 1 × 3\n",
       "\\begin{tabular}{r|lll}\n",
       "  & Mean BMI (Diabetic) & Mean BMI (Non-Diabetic) & Difference in BMI ((Diabetic)-(Non-Diabetic))\\\\\n",
       "  & <dbl> & <dbl> & <dbl>\\\\\n",
       "\\hline\n",
       "\tValues (in kg/m\\textasciicircum{}2) & 35.14254 & 30.3042 & 4.838337\\\\\n",
       "\\end{tabular}\n"
      ],
      "text/markdown": [
       "\n",
       "A data.frame: 1 × 3\n",
       "\n",
       "| <!--/--> | Mean BMI (Diabetic) &lt;dbl&gt; | Mean BMI (Non-Diabetic) &lt;dbl&gt; | Difference in BMI ((Diabetic)-(Non-Diabetic)) &lt;dbl&gt; |\n",
       "|---|---|---|---|\n",
       "| Values (in kg/m^2) | 35.14254 | 30.3042 | 4.838337 |\n",
       "\n"
      ],
      "text/plain": [
       "                   Mean BMI (Diabetic) Mean BMI (Non-Diabetic)\n",
       "Values (in kg/m^2) 35.14254            30.3042                \n",
       "                   Difference in BMI ((Diabetic)-(Non-Diabetic))\n",
       "Values (in kg/m^2) 4.838337                                     "
      ]
     },
     "metadata": {},
     "output_type": "display_data"
    }
   ],
   "source": [
    "# SAMPLE PARAMETER\n",
    "\n",
    "    # mean bmi values for people who are diabetic in this dataset\n",
    "    diabetic_group_mean <- diabetic_group %>%\n",
    "        summarize(mean = mean(bmi)) %>%\n",
    "        pull()\n",
    "\n",
    "    # mean bmi values for people who are non-diabetic in this dataset\n",
    "    nondiabetic_group_mean <- nondiabetic_group %>%\n",
    "        summarize(mean = mean(bmi)) %>%\n",
    "        pull()\n",
    "\n",
    "    # difference in mean bmi value for people with and without diabetes in this dataset\n",
    "    difference_in_mean_pop <- diabetic_group_mean - nondiabetic_group_mean\n",
    "\n",
    "    # summary of the population parameter calcuated above into a dataframe\n",
    "    pop_parameter_summary <- matrix(c(diabetic_group_mean, nondiabetic_group_mean, difference_in_mean_pop), ncol = 3, byrow = TRUE) \n",
    "    colnames(pop_parameter_summary) <- c(\"Mean BMI (Diabetic)\", \"Mean BMI (Non-Diabetic)\", \"Difference in BMI ((Diabetic)-(Non-Diabetic))\")\n",
    "    rownames(pop_parameter_summary) <- c('Values (in kg/m^2)')\n",
    "    table_pop_parameter_summary <- as.data.frame(pop_parameter_summary)\n",
    "\n",
    "\n",
    "# POPULATION PARAMETER VALUES (SUMMARY)\n",
    "table_pop_parameter_summary"
   ]
  },
  {
   "cell_type": "code",
   "execution_count": 87,
   "id": "6fc4cd42-63a5-4570-af48-fd7941683bff",
   "metadata": {
    "tags": []
   },
   "outputs": [
    {
     "data": {
      "image/png": "[encoded data removed]",
      "text/plain": [
       "plot without title"
      ]
     },
     "metadata": {
      "image/png": {
       "height": 600,
       "width": 900
      }
     },
     "output_type": "display_data"
    }
   ],
   "source": [
    "# HISTOGRAM : SAMPLE DISTRIBUTION\n",
    "\n",
    "    ## FOR DIABETIC GROUP:\n",
    "    diabetics_sample_hist <- diabetic_group %>%\n",
    "            ggplot(aes(x=bmi))+\n",
    "            geom_histogram(binwidth=1, color=\"white\")+\n",
    "            labs(x=\"BMI value (kg/m^2)\")+\n",
    "            ggtitle(\"Simulated Sample Distribution: For Diabetic Group \\n With Blue Line Indicating Sample Mean\") +\n",
    "            theme(plot.title = element_text(hjust = 0.5)) +\n",
    "            scale_x_continuous(breaks=seq(0,70, 5)) +\n",
    "            geom_vline(xintercept = diabetic_group_mean, color = 'blue', size = 1.5)\n",
    "\n",
    "    ## FOR NON-DIABETIC GROUP:\n",
    "    nondiabetics_sample_hist <- nondiabetic_group %>%\n",
    "            ggplot(aes(x=bmi))+\n",
    "            geom_histogram(binwidth=1, color=\"white\")+\n",
    "            labs(x=\"BMI value (kg/m^2)\")+\n",
    "            ggtitle(\"Simulated Sample Distribution: For Non-Diabetic Group \\n With Blue Line Indicating Sample Mean\") +\n",
    "            theme(plot.title = element_text(hjust = 0.5)) +\n",
    "            scale_x_continuous(breaks=seq(0,60, 5)) +\n",
    "            geom_vline(xintercept = nondiabetic_group_mean, color = 'blue', size = 1.5)\n",
    "\n",
    "# Histogram of SAMPLE distribution\n",
    "plot_grid(diabetics_sample_hist, nondiabetics_sample_hist)"
   ]
  },
  {
   "cell_type": "code",
   "execution_count": 82,
   "id": "22c829f5-d3bd-41e3-9c85-dec809ebbf47",
   "metadata": {},
   "outputs": [
    {
     "data": {
      "image/png": "[encoded data removed]",
      "text/plain": [
       "plot without title"
      ]
     },
     "metadata": {
      "image/png": {
       "height": 600,
       "width": 900
      }
     },
     "output_type": "display_data"
    }
   ],
   "source": [
    "# BOXPLOT\n",
    "\n",
    "    ## FOR DIABETIC GROUP:\n",
    "    boxplot_diabetic <- diabetic_group %>%\n",
    "            ggplot(aes(y = bmi)) +\n",
    "            geom_boxplot() +\n",
    "            labs( y = \"bmi value (kg/m^2)\", title = \"Boxplot of BMI Value: For Diabetic Group\") +\n",
    "            scale_y_continuous(breaks=seq(0,100, 5)) +\n",
    "            scale_x_continuous(breaks=seq(-100,100, 200)) +\n",
    "            theme(plot.title = element_text(hjust = .5))\n",
    "\n",
    "    ## FOR NON-DIABETIC GROUP:\n",
    "    boxplot_nondiabetic <- nondiabetic_group %>%\n",
    "            ggplot(aes(y = bmi)) +\n",
    "            geom_boxplot() +\n",
    "            labs(y = \"bmi value (kg/m^2)\", title = \"Boxplot of BMI Value: For Non-diabetic Group\") + \n",
    "            scale_y_continuous(breaks=seq(0,100, 5)) +\n",
    "            scale_x_continuous(breaks=seq(-100,100, 200)) +\n",
    "            theme(plot.title = element_text(hjust = .5))\n",
    "\n",
    "\n",
    "# BOXPLOT of BMI values \n",
    "plot_grid(boxplot_diabetic, boxplot_nondiabetic)"
   ]
  },
  {
   "cell_type": "code",
   "execution_count": 84,
   "id": "e20ca269-2c9b-487d-9d7f-f8383f00c181",
   "metadata": {},
   "outputs": [],
   "source": [
    "# Our sample contain 768 observations (n = 768). This should be sufficiently large but less than 10% of the population to pass the central limit theorem assumption.\n",
    "# The mean BMI value in non-diabetic group is lower than that of diabetic group based on the sample distributions and the boxplot above.\n",
    "# The difference in mean (by how much, and regarding how much confidence and significant our result is) will be study further in our analysis. "
   ]
  },
  {
   "cell_type": "markdown",
   "id": "e0b08895-06df-4474-a7ca-17d263cd3654",
   "metadata": {
    "tags": []
   },
   "source": [
    "## Method/Plan"
   ]
  },
  {
   "cell_type": "markdown",
   "id": "4bcb6e6f-e8cc-4313-9255-b173f7ce918e",
   "metadata": {},
   "source": [
    "Bootstrapping and hypothesis testing via randomization will be used to conduct this inferential study. Let m1 be the mean BMI value for females with diabetes, and m2 be the mean BMI value for females without diabetes with the following hypothesis:"
   ]
  },
  {
   "cell_type": "markdown",
   "id": "0daddfa8-e4a8-4bde-be8b-ee063ccb5dbd",
   "metadata": {},
   "source": [
    "<center>\n",
    "$$ \\text{Null Hypothesis} : m_1 - m_2 = 0 $$\n",
    "\n",
    "    \n",
    "$$ \\text{Alternative hypothesis}: m_1-m_2 > 0 $$ \n",
    "\n",
    "</center>"
   ]
  },
  {
   "cell_type": "markdown",
   "id": "3e8d6979-9800-4ec4-aa67-ab9ba555f50a",
   "metadata": {},
   "source": [
    "Some “good things'' about this analysis is that the data is taken from NIDDK, ensuring its authenticity and validity. Furthermore, it passes the central limit theorem (CLT) assumptions: such that the dataset is drawn independently, the sample size is less than 10% of the population, and the sample size is sufficiently large for this analysis to make assumptions about the population parameter.  \n",
    "\n",
    "However, since this study infers the population based on sample data, the plots and estimates produced aren't sufficient to provide to a stakeholder. To address this gap, a broader confidence interval (with a 95% confidence level) will be constructed along with the correlated margin of error in order to ensure the true difference in means is included. Furthermore, a hypothesis test with a p-value of 5% significance level will be conducted.\n",
    "\n",
    "Through this study, it is predicted that people with diabetes have much higher BMI mean value than those who do not have diabetes. In other words, any increase in BMI above normal weight levels is associated with an increased risk of being diagnosed as having complications of diabetes.\n",
    "\n",
    "Given the considerable health and financial costs associated with diabetes  (Huang, 2015), these findings have important policy-forming formulations, which help improve early evaluation and management of risk factors leading to diabetes. Future studies may investigate the effect of abdominal obesity on diabetes, as well as the relationship between food environment and diabetes. "
   ]
  },
  {
   "cell_type": "markdown",
   "id": "26eeb76b-b15d-485f-8aae-c9649c449709",
   "metadata": {},
   "source": [
    "## References"
   ]
  },
  {
   "cell_type": "markdown",
   "id": "1377e576-9e97-4170-9f47-62b7b33453ca",
   "metadata": {},
   "source": [
    "Huang, J. (2015). Commentary on “Relation between BMI and Diabetes Mellitus and Its\n",
    "Complications among US Older Adults”. Southern Medical Journal, 108 (1), 37-38. doi: 10.14423/SMJ.0000000000000215.\n",
    "\n",
    "Gray, N. , Picone, G. , Sloan, F. & Yashkin, A. (2015). Relation between BMI and Diabetes \n",
    "Mellitus and Its Complications among US Older Adults. Southern Medical Journal, 108 (1), 29-36. doi: 10.14423/SMJ.0000000000000214.\n",
    "\n",
    "Feldman, A. L., Griffin, S. J., Ahern, A. L., Long, G. H., Weinehall, L., Fhärm, E., ... & Wennberg, P. (2017). Impact of weight maintenance and loss on diabetes risk and burden: a population-based study in 33,184 participants. BMC Public Health, 17(1), 1-10. doi:  10.1186/s12889-017-4081-6.\n",
    "\n",
    "Namdev, P. (2018, March 25). Diabetes_dataset. Kaggle. Retrieved July 21, 2022, from https://www.kaggle.com/datasets/pushprajnamdev/diabetes-dataset?resource=download&select=diabetes.csv\n",
    "\n",
    "NHS. (n.d.). NHS choices. Retrieved July 25, 2022, from https://www.nhs.uk/common-health-questions/lifestyle/what-is-the-body-mass-index-bmi/ \n"
   ]
  }
 ],
 "metadata": {
  "kernelspec": {
   "display_name": "R",
   "language": "R",
   "name": "ir"
  },
  "language_info": {
   "codemirror_mode": "r",
   "file_extension": ".r",
   "mimetype": "text/x-r-source",
   "name": "R",
   "pygments_lexer": "r",
   "version": "4.0.5"
  }
 },
 "nbformat": 4,
 "nbformat_minor": 5
}
